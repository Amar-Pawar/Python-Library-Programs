{
 "cells": [
  {
   "cell_type": "markdown",
   "source": [
    "***@Author: Amar Pawar***\r\n",
    "<br>\r\n",
    "\r\n",
    "***@Date: 2021-07-12***\r\n",
    "<br>\r\n",
    "\r\n",
    "***@Last Modified by: Amar Pawar***\r\n",
    "<br>\r\n",
    "\r\n",
    "***@Last Modified time: 2021-07-12***\r\n",
    "<br>\r\n",
    "\r\n",
    "***@Title : Find set exclusive-or of two arrays***\r\n"
   ],
   "metadata": {}
  },
  {
   "cell_type": "code",
   "execution_count": null,
   "source": [
    "import numpy as np"
   ],
   "outputs": [],
   "metadata": {}
  },
  {
   "cell_type": "code",
   "execution_count": null,
   "source": [
    "array1 = np.array([0, 10, 20, 40, 60, 80])"
   ],
   "outputs": [],
   "metadata": {}
  },
  {
   "cell_type": "code",
   "execution_count": null,
   "source": [
    "array2 = np.array([10, 30, 40, 50, 70])"
   ],
   "outputs": [],
   "metadata": {}
  },
  {
   "cell_type": "code",
   "execution_count": null,
   "source": [
    "np.setxor1d(array1, array2)"
   ],
   "outputs": [],
   "metadata": {}
  }
 ],
 "metadata": {
  "orig_nbformat": 4,
  "language_info": {
   "name": "python"
  }
 },
 "nbformat": 4,
 "nbformat_minor": 2
}