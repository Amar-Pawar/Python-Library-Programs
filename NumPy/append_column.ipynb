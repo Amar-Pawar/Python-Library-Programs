{
 "cells": [
  {
   "cell_type": "markdown",
   "source": [
    "***@Author: Amar Pawar***\r\n",
    "<br>\r\n",
    "\r\n",
    "***@Date: 2021-07-12***\r\n",
    "<br>\r\n",
    "\r\n",
    "***@Last Modified by: Amar Pawar***\r\n",
    "<br>\r\n",
    "\r\n",
    "***@Last Modified time: 2021-07-12***\r\n",
    "<br>\r\n",
    "\r\n",
    "***@Title : Add column to numpy array***\r\n"
   ],
   "metadata": {}
  },
  {
   "cell_type": "code",
   "execution_count": 1,
   "source": [
    "import numpy as np"
   ],
   "outputs": [],
   "metadata": {}
  },
  {
   "cell_type": "code",
   "execution_count": 4,
   "source": [
    "my_array = np.array([[10,20,30], [40,50,60]])"
   ],
   "outputs": [],
   "metadata": {}
  },
  {
   "cell_type": "code",
   "execution_count": 5,
   "source": [
    "colum_to_append = np.array([[100], [200]])"
   ],
   "outputs": [],
   "metadata": {}
  },
  {
   "cell_type": "code",
   "execution_count": 6,
   "source": [
    "np.append(my_array, colum_to_append, axis=1)"
   ],
   "outputs": [
    {
     "output_type": "execute_result",
     "data": {
      "text/plain": [
       "array([[ 10,  20,  30, 100],\n",
       "       [ 40,  50,  60, 200]])"
      ]
     },
     "metadata": {},
     "execution_count": 6
    }
   ],
   "metadata": {}
  }
 ],
 "metadata": {
  "orig_nbformat": 4,
  "language_info": {
   "name": "python"
  }
 },
 "nbformat": 4,
 "nbformat_minor": 2
}