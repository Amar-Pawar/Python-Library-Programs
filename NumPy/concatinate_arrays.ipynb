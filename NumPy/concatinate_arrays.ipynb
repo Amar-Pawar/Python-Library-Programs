{
 "cells": [
  {
   "cell_type": "markdown",
   "source": [
    "***@Author: Amar Pawar***\r\n",
    "<br>\r\n",
    "\r\n",
    "***@Date: 2021-07-12***\r\n",
    "<br>\r\n",
    "\r\n",
    "***@Last Modified by: Amar Pawar***\r\n",
    "<br>\r\n",
    "\r\n",
    "***@Last Modified time: 2021-07-12***\r\n",
    "<br>\r\n",
    "\r\n",
    "***@Title : Concatinate arrays***\r\n"
   ],
   "metadata": {}
  },
  {
   "cell_type": "code",
   "execution_count": 1,
   "source": [
    "import numpy as np"
   ],
   "outputs": [],
   "metadata": {}
  },
  {
   "cell_type": "code",
   "execution_count": 2,
   "source": [
    "array1 = np.array([[0, 1, 3], [5, 7, 9]])"
   ],
   "outputs": [],
   "metadata": {}
  },
  {
   "cell_type": "code",
   "execution_count": 3,
   "source": [
    "array2 = np.array([[0, 2, 4], [6, 8, 10]])"
   ],
   "outputs": [],
   "metadata": {}
  },
  {
   "cell_type": "code",
   "execution_count": 4,
   "source": [
    "concatinated_array = np.concatenate((array1, array2), 1)"
   ],
   "outputs": [],
   "metadata": {}
  },
  {
   "cell_type": "code",
   "execution_count": 5,
   "source": [
    "concatinated_array"
   ],
   "outputs": [
    {
     "output_type": "execute_result",
     "data": {
      "text/plain": [
       "array([[ 0,  1,  3,  0,  2,  4],\n",
       "       [ 5,  7,  9,  6,  8, 10]])"
      ]
     },
     "metadata": {},
     "execution_count": 5
    }
   ],
   "metadata": {}
  }
 ],
 "metadata": {
  "orig_nbformat": 4,
  "language_info": {
   "name": "python"
  }
 },
 "nbformat": 4,
 "nbformat_minor": 2
}