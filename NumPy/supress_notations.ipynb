{
 "cells": [
  {
   "cell_type": "markdown",
   "source": [
    "***@Author: Amar Pawar***\r\n",
    "<br>\r\n",
    "\r\n",
    "***@Date: 2021-07-12***\r\n",
    "<br>\r\n",
    "\r\n",
    "***@Last Modified by: Amar Pawar***\r\n",
    "<br>\r\n",
    "\r\n",
    "***@Last Modified time: 2021-07-12***\r\n",
    "<br>\r\n",
    "\r\n",
    "***@Title : Program to suppress scientific notations in numpy array***\r\n"
   ],
   "metadata": {}
  },
  {
   "cell_type": "code",
   "execution_count": 1,
   "source": [
    "import numpy as np"
   ],
   "outputs": [],
   "metadata": {}
  },
  {
   "cell_type": "code",
   "execution_count": 2,
   "source": [
    "my_array = np.array([1.6e-10, 1.6, 1200, .235]) "
   ],
   "outputs": [],
   "metadata": {}
  },
  {
   "cell_type": "code",
   "execution_count": 3,
   "source": [
    "np.set_printoptions(suppress=True)"
   ],
   "outputs": [],
   "metadata": {}
  },
  {
   "cell_type": "code",
   "execution_count": 4,
   "source": [
    "my_array"
   ],
   "outputs": [
    {
     "output_type": "execute_result",
     "data": {
      "text/plain": [
       "array([   0.   ,    1.6  , 1200.   ,    0.235])"
      ]
     },
     "metadata": {},
     "execution_count": 4
    }
   ],
   "metadata": {}
  }
 ],
 "metadata": {
  "orig_nbformat": 4,
  "language_info": {
   "name": "python"
  }
 },
 "nbformat": 4,
 "nbformat_minor": 2
}