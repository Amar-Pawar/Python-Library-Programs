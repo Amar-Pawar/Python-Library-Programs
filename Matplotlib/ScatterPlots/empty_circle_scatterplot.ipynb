{
 "cells": [
  {
   "cell_type": "markdown",
   "source": [
    "***@Author: Amar Pawar***\r\n",
    "<br>\r\n",
    "\r\n",
    "***@Date: 2021-07-15***\r\n",
    "<br>\r\n",
    "\r\n",
    "***@Last Modified by: Amar Pawar***\r\n",
    "<br>\r\n",
    "\r\n",
    "***@Last Modified time: 2021-07-15***\r\n",
    "<br>\r\n",
    "\r\n",
    "***@Title : Create scatter plot for random values for x and y and empty circle***"
   ],
   "metadata": {}
  },
  {
   "cell_type": "code",
   "execution_count": null,
   "source": [
    "import matplotlib.pyplot as plt\r\n",
    "from pylab import randn"
   ],
   "outputs": [],
   "metadata": {}
  },
  {
   "cell_type": "code",
   "execution_count": null,
   "source": [
    "x_values = randn(30)\r\n",
    "y_values = randn(30)"
   ],
   "outputs": [],
   "metadata": {}
  },
  {
   "cell_type": "code",
   "execution_count": null,
   "source": [
    "plt.scatter(x_values,y_values, s=200, facecolors='none', edgecolors='g')\r\n",
    "plt.xlabel(\"X - Axis\")\r\n",
    "plt.ylabel(\"Y - Axis\")\r\n",
    "plt.show()"
   ],
   "outputs": [],
   "metadata": {}
  }
 ],
 "metadata": {
  "orig_nbformat": 4,
  "language_info": {
   "name": "python"
  }
 },
 "nbformat": 4,
 "nbformat_minor": 2
}