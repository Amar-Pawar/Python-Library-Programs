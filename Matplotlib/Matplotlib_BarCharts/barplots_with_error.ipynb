{
 "cells": [
  {
   "cell_type": "markdown",
   "source": [
    "***@Author: Amar Pawar***\r\n",
    "<br>\r\n",
    "\r\n",
    "***@Date: 2021-07-15***\r\n",
    "<br>\r\n",
    "\r\n",
    "***@Last Modified by: Amar Pawar***\r\n",
    "<br>\r\n",
    "\r\n",
    "***@Last Modified time: 2021-07-15***\r\n",
    "<br>\r\n",
    "\r\n",
    "***@Title : Display bar chart with error bars***"
   ],
   "metadata": {}
  },
  {
   "cell_type": "code",
   "execution_count": 1,
   "source": [
    "from matplotlib import pyplot as plt\r\n",
    "import numpy as np"
   ],
   "outputs": [],
   "metadata": {}
  },
  {
   "cell_type": "code",
   "execution_count": 2,
   "source": [
    "mean_velocity = [0.2474,0.1235,0.1737,0.1824]\r\n",
    "std_daviation = [0.3314,0.2278,0.2836,0.2645]"
   ],
   "outputs": [],
   "metadata": {}
  },
  {
   "cell_type": "code",
   "execution_count": 3,
   "source": [
    "ind = np.arange(len(mean_velocity))    \r\n",
    "width = 0.35   \r\n",
    "plt.bar(ind, mean_velocity, width, yerr= std_daviation , color='red')\r\n",
    "plt.ylabel('Scores')\r\n",
    "plt.xlabel('Velocity')\r\n",
    "plt.title('Bar plots with error bars')\r\n",
    "plt.show()"
   ],
   "outputs": [
    {
     "output_type": "display_data",
     "data": {
      "text/plain": [
       "<Figure size 432x288 with 1 Axes>"
      ],
      "image/png": "[encoded data removed]"
     },
     "metadata": {
      "needs_background": "light"
     }
    }
   ],
   "metadata": {}
  }
 ],
 "metadata": {
  "orig_nbformat": 4,
  "language_info": {
   "name": "python"
  }
 },
 "nbformat": 4,
 "nbformat_minor": 2
}