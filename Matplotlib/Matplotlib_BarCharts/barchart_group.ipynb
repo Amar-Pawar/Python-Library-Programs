{
 "cells": [
  {
   "cell_type": "markdown",
   "source": [
    "***@Author: Amar Pawar***\r\n",
    "<br>\r\n",
    "\r\n",
    "***@Date: 2021-07-15***\r\n",
    "<br>\r\n",
    "\r\n",
    "***@Last Modified by: Amar Pawar***\r\n",
    "<br>\r\n",
    "\r\n",
    "***@Last Modified time: 2021-07-15***\r\n",
    "<br>\r\n",
    "\r\n",
    "***@Title : Display bar chart of given data by grouping***"
   ],
   "metadata": {}
  },
  {
   "cell_type": "code",
   "execution_count": 2,
   "source": [
    "from matplotlib import pyplot as plt\r\n",
    "import numpy as np"
   ],
   "outputs": [],
   "metadata": {}
  },
  {
   "cell_type": "code",
   "execution_count": 3,
   "source": [
    "men_means = (22, 30, 33, 30, 26)\r\n",
    "women_means = (25, 32, 30, 35, 29)"
   ],
   "outputs": [],
   "metadata": {}
  },
  {
   "cell_type": "code",
   "execution_count": 4,
   "source": [
    "groups = ['G1','G2', 'G3', 'G4', 'G5']"
   ],
   "outputs": [],
   "metadata": {}
  },
  {
   "cell_type": "code",
   "execution_count": 5,
   "source": [
    "x_indexes = np.arange(len(groups))\r\n",
    "width = 0.25"
   ],
   "outputs": [],
   "metadata": {}
  },
  {
   "cell_type": "code",
   "execution_count": 6,
   "source": [
    "plt.bar(x_indexes-width,men_means,width=width ,color='b', label='Men')\r\n",
    "plt.bar(x_indexes,women_means,width=width,color='g',label='Women')\r\n",
    "plt.legend()\r\n",
    "plt.xticks(ticks=x_indexes,labels=groups)\r\n",
    "plt.title(\"Mean scores by gender\")\r\n",
    "plt.xlabel(\"Groups\")\r\n",
    "plt.ylabel(\"Scores\")\r\n",
    "plt.tight_layout()\r\n",
    "plt.show() "
   ],
   "outputs": [
    {
     "output_type": "display_data",
     "data": {
      "text/plain": [
       "<Figure size 432x288 with 1 Axes>"
      ],
      "image/png": "[encoded data removed]"
     },
     "metadata": {
      "needs_background": "light"
     }
    }
   ],
   "metadata": {}
  }
 ],
 "metadata": {
  "orig_nbformat": 4,
  "language_info": {
   "name": "python"
  }
 },
 "nbformat": 4,
 "nbformat_minor": 2
}