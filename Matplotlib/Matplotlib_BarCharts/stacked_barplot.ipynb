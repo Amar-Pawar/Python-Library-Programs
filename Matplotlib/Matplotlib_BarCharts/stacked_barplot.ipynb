{
 "cells": [
  {
   "cell_type": "markdown",
   "source": [
    "***@Author: Amar Pawar***\r\n",
    "<br>\r\n",
    "\r\n",
    "***@Date: 2021-07-15***\r\n",
    "<br>\r\n",
    "\r\n",
    "***@Last Modified by: Amar Pawar***\r\n",
    "<br>\r\n",
    "\r\n",
    "***@Last Modified time: 2021-07-15***\r\n",
    "<br>\r\n",
    "\r\n",
    "***@Title : Display stacked bar plot***"
   ],
   "metadata": {}
  },
  {
   "cell_type": "code",
   "execution_count": 3,
   "source": [
    "import numpy as np\r\n",
    "import matplotlib.pyplot as plt"
   ],
   "outputs": [],
   "metadata": {}
  },
  {
   "cell_type": "code",
   "execution_count": 4,
   "source": [
    "men_means = [22, 30, 35, 35, 26]\r\n",
    "women_means = [25, 32, 30, 35, 29]\r\n",
    "men_std = [4, 3, 4, 1, 5]\r\n",
    "women_std = [3, 5, 2, 3, 3]\r\n",
    "N = 5"
   ],
   "outputs": [],
   "metadata": {}
  },
  {
   "cell_type": "code",
   "execution_count": 5,
   "source": [
    "indexes = np.arange(N)    \r\n",
    "width = 0.35      "
   ],
   "outputs": [],
   "metadata": {}
  },
  {
   "cell_type": "code",
   "execution_count": 6,
   "source": [
    "p1 = plt.bar(indexes, men_means, width, yerr=men_std, color='red')\r\n",
    "p2 = plt.bar(indexes, women_means, width,bottom=men_means, yerr=women_std, color='green')\r\n",
    "\r\n",
    "plt.ylabel('Scores')\r\n",
    "plt.xlabel('Groups')\r\n",
    "plt.title('Scores by group and gender')\r\n",
    "plt.xticks(indexes, ('Group1', 'Group2', 'Group3', 'Group4', 'Group5'))\r\n",
    "plt.yticks(np.arange(0, 81, 10))\r\n",
    "plt.legend((p1[0], p2[0]), ('Men', 'Women'))\r\n",
    "plt.show()"
   ],
   "outputs": [
    {
     "output_type": "display_data",
     "data": {
      "text/plain": [
       "<Figure size 432x288 with 1 Axes>"
      ],
      "image/png": "[encoded data removed]"
     },
     "metadata": {
      "needs_background": "light"
     }
    }
   ],
   "metadata": {}
  }
 ],
 "metadata": {
  "orig_nbformat": 4,
  "language_info": {
   "name": "python"
  }
 },
 "nbformat": 4,
 "nbformat_minor": 2
}